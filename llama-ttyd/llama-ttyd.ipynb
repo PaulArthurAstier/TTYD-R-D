{
 "cells": [
  {
   "cell_type": "code",
   "execution_count": null,
   "metadata": {},
   "outputs": [],
   "source": [
    "from langchain.chains import LLMChain\n",
    "from langchain_community.llms import Ollama\n",
    "from langchain_core.prompts import PromptTemplate\n",
    "\n",
    "import os\n",
    "import os.path\n",
    "\n",
    "llm = Ollama(temperature=0.5, model=\"mistral\")\n",
    "\n",
    "prompt_initiate = PromptTemplate(\n",
    "    input_variables=[\"adjective\"],\n",
    "    template= \"tell me a {adjective} joke\"\n",
    ")\n",
    "\n",
    "chain = LLMChain(llm=llm, prompt=prompt_initiate)\n",
    "\n",
    "text = chain.invoke(\"funny\")\n",
    "\n",
    "print(text)"
   ]
  },
  {
   "cell_type": "code",
   "execution_count": 15,
   "metadata": {},
   "outputs": [
    {
     "name": "stdout",
     "output_type": "stream",
     "text": [
      "<pypdf._reader.PdfReader object at 0x00000279E8D1F610>\n"
     ]
    }
   ],
   "source": [
    "from pypdf import PdfReader \n",
    "#TODO: store the pdf file name in _doc_title\n",
    "\n",
    "class doc:\n",
    "#private---------------------------------\n",
    "    _doc = \"\"\n",
    "    _doc_title = \"\"\n",
    "    _page_number = \"\"\n",
    "    _text_extract = []\n",
    "\n",
    "\n",
    "#public----------------------------------\n",
    "    def __init__(self, path):\n",
    "        self._doc = PdfReader(path)\n",
    "        self._doc_title = self._doc\n",
    "        self._page_number = len(self._doc.pages)\n",
    "\n",
    "        for i in range(self._page_number):\n",
    "            self._text_extract.append(self._doc.pages[i].extract_text())\n",
    "    \n",
    "    def g_page_number(self):\n",
    "        return self._page_number\n",
    "\n",
    "    def g_text_page(self, page_number):\n",
    "        return self._text_extract[page_number]\n",
    "\n",
    "    def g_title(self):\n",
    "        return self._doc_title\n",
    "\n",
    "\n",
    "\n",
    "\n",
    "docu = doc(\"data/docs_1-3.pdf\")\n",
    "\n",
    "\n"
   ]
  },
  {
   "cell_type": "code",
   "execution_count": null,
   "metadata": {},
   "outputs": [],
   "source": [
    "\n",
    "\n",
    "\n",
    "class doc_manager:\n",
    "#private---------------------------\n",
    "    _docs = []\n",
    "    _path = \"\"\n",
    "\n",
    "#public----------------------------\n",
    "    def __init__(self, path):\n",
    "        self._path = path\n",
    "\n",
    "\n",
    "\n",
    "\n",
    "\n",
    "\n"
   ]
  }
 ],
 "metadata": {
  "kernelspec": {
   "display_name": "Python 3",
   "language": "python",
   "name": "python3"
  },
  "language_info": {
   "codemirror_mode": {
    "name": "ipython",
    "version": 3
   },
   "file_extension": ".py",
   "mimetype": "text/x-python",
   "name": "python",
   "nbconvert_exporter": "python",
   "pygments_lexer": "ipython3",
   "version": "3.10.11"
  }
 },
 "nbformat": 4,
 "nbformat_minor": 2
}
