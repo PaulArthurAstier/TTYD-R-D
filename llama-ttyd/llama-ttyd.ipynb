{
 "cells": [
  {
   "cell_type": "code",
   "execution_count": 12,
   "metadata": {},
   "outputs": [],
   "source": [
    "from pypdf import PdfReader \n",
    "\n",
    "####################################\n",
    "#                                  #\n",
    "####################################\n",
    "class pdf_doc:\n",
    "#private---------------------------------\n",
    "    _doc = \"\"\n",
    "    _doc_title = \"\"\n",
    "    _number_of_pages = \"\"\n",
    "    _text_extract = []\n",
    "\n",
    "\n",
    "#public----------------------------------\n",
    "    def __init__(self, path, doc_title):\n",
    "        self._doc = PdfReader(path)\n",
    "        self._doc_title = doc_title\n",
    "        self._number_of_pages = len(self._doc.pages)\n",
    "\n",
    "        for i in range(self._number_of_pages):\n",
    "            self._text_extract.append(self._doc.pages[i].extract_text())\n",
    "    \n",
    "    def g_number_of_pages(self):\n",
    "        return self._number_of_pages\n",
    "\n",
    "    def g_page_text(self, page_number):\n",
    "        return self._text_extract[page_number]\n",
    "\n",
    "    def g_title(self):\n",
    "        return self._doc_title\n",
    "####################################\n",
    "#                                  #\n",
    "####################################"
   ]
  },
  {
   "cell_type": "code",
   "execution_count": 13,
   "metadata": {},
   "outputs": [],
   "source": [
    "import os\n",
    "import os.path\n",
    "\n",
    "####################################\n",
    "#                                  #\n",
    "####################################\n",
    "class doc_manager:\n",
    "#private---------------------------\n",
    "    _docs = []\n",
    "    _path = \"\"\n",
    "\n",
    "#public----------------------------\n",
    "    def __init__(self, path):\n",
    "        self._path = path\n",
    "\n",
    "        for file in os.listdir(self._path):\n",
    "            if file.endswith(\".pdf\"):\n",
    "                self._docs.append(pdf_doc(os.path.join(self._path, file), file))\n",
    "\n",
    "    def g_docs_length(self):\n",
    "        return len(self._docs)\n",
    "    \n",
    "    def g_doc_title(self, index):\n",
    "        return self._docs[index].g_title()\n",
    "####################################\n",
    "#                                  #\n",
    "####################################"
   ]
  },
  {
   "cell_type": "code",
   "execution_count": 14,
   "metadata": {},
   "outputs": [
    {
     "data": {
      "text/plain": [
       "6"
      ]
     },
     "execution_count": 14,
     "metadata": {},
     "output_type": "execute_result"
    }
   ],
   "source": [
    "from langchain.chains import LLMChain\n",
    "from langchain_community.llms import Ollama\n",
    "from langchain_core.prompts import PromptTemplate\n",
    "\n",
    "####################################\n",
    "#                                  #\n",
    "####################################\n",
    "class ttyd:\n",
    "#private---------------------------------\n",
    "    _data_path = \"\"\n",
    "    _file_manager = \"\"\n",
    "\n",
    "#public----------------------------------\n",
    "    def __init__(self, path):\n",
    "        self._data_path = path\n",
    "        self._file_manager = doc_manager(self._data_path)\n",
    "    \n",
    "    def g_document_count(self):\n",
    "        return self._file_manager.g_docs_length()\n",
    "####################################\n",
    "#                                  #\n",
    "####################################\n",
    "\n",
    "\n",
    "\n",
    "\n",
    "test2 = ttyd(\"data\")\n",
    "test2.g_document_count()\n",
    "\n"
   ]
  }
 ],
 "metadata": {
  "kernelspec": {
   "display_name": "Python 3",
   "language": "python",
   "name": "python3"
  },
  "language_info": {
   "codemirror_mode": {
    "name": "ipython",
    "version": 3
   },
   "file_extension": ".py",
   "mimetype": "text/x-python",
   "name": "python",
   "nbconvert_exporter": "python",
   "pygments_lexer": "ipython3",
   "version": "3.10.11"
  }
 },
 "nbformat": 4,
 "nbformat_minor": 2
}
