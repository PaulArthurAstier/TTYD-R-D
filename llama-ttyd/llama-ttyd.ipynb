{
 "cells": [
  {
   "cell_type": "code",
   "execution_count": null,
   "metadata": {},
   "outputs": [],
   "source": [
    "from langchain.chains import LLMChain\n",
    "from langchain_community.llms import Ollama\n",
    "from langchain_core.prompts import PromptTemplate\n",
    "\n",
    "import os\n",
    "import os.path\n",
    "\n",
    "llm = Ollama(temperature=0.5, model=\"mistral\")\n",
    "\n",
    "prompt_initiate = PromptTemplate(\n",
    "    input_variables=[\"adjective\"],\n",
    "    template= \"tell me a {adjective} joke\"\n",
    ")\n",
    "\n",
    "chain = LLMChain(llm=llm, prompt=prompt_initiate)\n",
    "\n",
    "text = chain.invoke(\"funny\")\n",
    "\n",
    "print(text)"
   ]
  },
  {
   "cell_type": "code",
   "execution_count": null,
   "metadata": {},
   "outputs": [],
   "source": [
    "from pypdf import PdfReader \n",
    "import os\n",
    "import os.path\n",
    "\n",
    "\n",
    "####################################\n",
    "#                                  #\n",
    "####################################\n",
    "class pdf_doc:\n",
    "#private---------------------------------\n",
    "    _doc = \"\"\n",
    "    _doc_title = \"\"\n",
    "    _number_of_pages = \"\"\n",
    "    _text_extract = []\n",
    "\n",
    "\n",
    "#public----------------------------------\n",
    "    def __init__(self, path):\n",
    "        self._doc = PdfReader(path)\n",
    "        self._doc_title = os.path.basename(path)\n",
    "        self._number_of_pages = len(self._doc.pages)\n",
    "\n",
    "        for i in range(self._number_of_pages):\n",
    "            self._text_extract.append(self._doc.pages[i].extract_text())\n",
    "    \n",
    "    def g_number_of_pages(self):\n",
    "        return self._number_of_pages\n",
    "\n",
    "    def g_page_text(self, page_number):\n",
    "        return self._text_extract[page_number]\n",
    "\n",
    "    def g_title(self):\n",
    "        return self._doc_title\n",
    "\n"
   ]
  },
  {
   "cell_type": "code",
   "execution_count": 27,
   "metadata": {},
   "outputs": [
    {
     "name": "stdout",
     "output_type": "stream",
     "text": [
      "6\n"
     ]
    }
   ],
   "source": [
    "import os\n",
    "import os.path\n",
    "\n",
    "\n",
    "####################################\n",
    "#                                  #\n",
    "####################################\n",
    "class doc_manager:\n",
    "#private---------------------------\n",
    "    _docs = []\n",
    "    _path = \"\"\n",
    "\n",
    "#public----------------------------\n",
    "    def __init__(self, path):\n",
    "        self._path = path\n",
    "\n",
    "        for file in os.listdir(self._path):\n",
    "            if file.endswith(\".pdf\"):\n",
    "                self._docs.append(pdf_doc(os.path.join(self._path, file)))\n",
    "\n",
    "    def g_docs_length(self):\n",
    "        return len(self._docs)\n",
    "\n",
    "\n"
   ]
  }
 ],
 "metadata": {
  "kernelspec": {
   "display_name": "Python 3",
   "language": "python",
   "name": "python3"
  },
  "language_info": {
   "codemirror_mode": {
    "name": "ipython",
    "version": 3
   },
   "file_extension": ".py",
   "mimetype": "text/x-python",
   "name": "python",
   "nbconvert_exporter": "python",
   "pygments_lexer": "ipython3",
   "version": "3.10.11"
  }
 },
 "nbformat": 4,
 "nbformat_minor": 2
}
