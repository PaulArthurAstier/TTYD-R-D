{
 "cells": [
  {
   "cell_type": "code",
   "execution_count": 1,
   "metadata": {},
   "outputs": [
    {
     "name": "stdout",
     "output_type": "stream",
     "text": [
      "{'adjective': 'funny', 'text': \" Why don't scientists trust atoms?\\n\\nBecause they make up everything! \\n\\n(I hope that brought a smile to your face!)\"}\n"
     ]
    }
   ],
   "source": [
    "from langchain.chains import LLMChain\n",
    "from langchain_community.llms import Ollama\n",
    "from langchain_core.prompts import PromptTemplate\n",
    "\n",
    "import os\n",
    "import os.path\n",
    "\n",
    "llm = Ollama(temperature=0.5, model=\"mistral\")\n",
    "\n",
    "prompt_initiate = PromptTemplate(\n",
    "    input_variables=[\"adjective\"],\n",
    "    template= \"tell me a {adjective} joke\"\n",
    ")\n",
    "\n",
    "chain = LLMChain(llm=llm, prompt=prompt_initiate)\n",
    "\n",
    "text = chain.invoke(\"funny\")\n",
    "\n",
    "print(text)"
   ]
  }
 ],
 "metadata": {
  "kernelspec": {
   "display_name": "Python 3",
   "language": "python",
   "name": "python3"
  },
  "language_info": {
   "codemirror_mode": {
    "name": "ipython",
    "version": 3
   },
   "file_extension": ".py",
   "mimetype": "text/x-python",
   "name": "python",
   "nbconvert_exporter": "python",
   "pygments_lexer": "ipython3",
   "version": "3.10.11"
  }
 },
 "nbformat": 4,
 "nbformat_minor": 2
}
